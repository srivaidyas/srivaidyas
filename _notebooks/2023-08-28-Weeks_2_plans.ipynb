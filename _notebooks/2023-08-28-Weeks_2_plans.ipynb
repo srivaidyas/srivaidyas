{
 "cells": [
  {
   "attachments": {},
   "cell_type": "markdown",
   "metadata": {},
   "source": [
    "---\n",
    "# this is YAML front matter\n",
    "layout: post\n",
    "title: Week 2 Plans\n",
    "description: This post details the plans for week 2\n",
    "courses: { csp: {week: 2, categories: [1.A, 3.A, 4.B]} }\n",
    "categories: [C4.0]\n",
    "type: plans\n",
    "---"
   ]
  },
  {
   "cell_type": "markdown",
   "metadata": {},
   "source": [
    "#### Monday\n",
    "- Start with listening to the tech talk.\n",
    "- Begin making two new posts, one for Week 1 sumary and the other for week 2 plans\n",
    "- Check salck for new messages and begin organising you notebook\n",
    "- Finish week 1 summary and also include basic code you learnt last week and week 0 into an organized table\n",
    "- Work on Week 2 plans if time permits\n",
    "- Make your github.io site work and commit all the changes from VSCode into the site.\n",
    "\n",
    "#### Tuesday\n",
    "- Begin by completing the week 2 plans and include major stuff you learnt as hack and tangibles\n",
    "- "
   ]
  }
 ],
 "metadata": {
  "kernelspec": {
   "display_name": "Python 3.8.10 64-bit",
   "language": "python",
   "name": "python3"
  },
  "language_info": {
   "codemirror_mode": {
    "name": "ipython",
    "version": 3
   },
   "file_extension": ".py",
   "mimetype": "text/x-python",
   "name": "python",
   "nbconvert_exporter": "python",
   "pygments_lexer": "ipython3",
   "version": "3.11.4"
  },
  "vscode": {
   "interpreter": {
    "hash": "916dbcbb3f70747c44a77c7bcd40155683ae19c65e1c03b4aa3499c5328201f1"
   }
  }
 },
 "nbformat": 4,
 "nbformat_minor": 2
}

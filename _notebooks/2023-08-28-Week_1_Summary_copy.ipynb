{
 "cells": [
  {
   "attachments": {},
   "cell_type": "markdown",
   "metadata": {},
   "source": [
    "---\n",
    "# this is YAML front matter\n",
    "layout: post\n",
    "title: Week 1 summary\n",
    "description: This is the summary for week on of CSP classes. (21-25 August)\n",
    "courses: { csp: {week: 1, categories: [1.A, 3.A, 4.B]} }\n",
    "categories: [C4.0]\n",
    "type: tangibles\n",
    "---"
   ]
  },
  {
   "cell_type": "markdown",
   "metadata": {},
   "source": [
    "#### Week 1 summary of code and problems faced\n"
   ]
  },
  {
   "cell_type": "markdown",
   "metadata": {},
   "source": [
    "#### Monday\n",
    "On Monday, me and my partner Sathvik began the day by installing the nessasary tools fo the course. A few of the tools included, docker, anaconda, vscode, slack etc. At one step, namely ***make*** both of use could not progress further as we faced the same error ***error1***. This little error stopped us from moving further. We tried a lot of things but none of it seemed to work the make command. Finally chatgpt helped out solving the problem with the two commands."
   ]
  },
  {
   "cell_type": "markdown",
   "metadata": {},
   "source": [
    "*bundle install and bundle update*"
   ]
  },
  {
   "cell_type": "markdown",
   "metadata": {},
   "source": [
    "<br>\n"
   ]
  }
 ],
 "metadata": {
  "kernelspec": {
   "display_name": "Python 3.8.10 64-bit",
   "language": "python",
   "name": "python3"
  },
  "language_info": {
   "codemirror_mode": {
    "name": "ipython",
    "version": 3
   },
   "file_extension": ".py",
   "mimetype": "text/x-python",
   "name": "python",
   "nbconvert_exporter": "python",
   "pygments_lexer": "ipython3",
   "version": "3.11.4"
  },
  "vscode": {
   "interpreter": {
    "hash": "916dbcbb3f70747c44a77c7bcd40155683ae19c65e1c03b4aa3499c5328201f1"
   }
  }
 },
 "nbformat": 4,
 "nbformat_minor": 2
}
